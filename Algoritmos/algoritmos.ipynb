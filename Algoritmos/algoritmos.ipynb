{
 "cells": [
  {
   "cell_type": "markdown",
   "metadata": {},
   "source": [
    "### Is admissible Overpayment\n",
    "\n",
    "After recently joining Instacart's beta testing developer group, you decide to experiment with their new API. You know that the API returns item-specific display-ready strings like \"10.0% higher than in-store\" or \"5.0% lower than in-store\" that inform users when the price of an item is different from the one in-store. But you want to extend this functionality by giving people a better sense of how much more they will be paying for their entire shopping cart.\n",
    "\n",
    "Your app lets a user decide the total amount x they are willing to pay via Instacart over in-store prices. This you call their price sensitivity.\n",
    "\n",
    "Your job is to determine whether a given customer will be willing to pay for the given items in their cart based on their stated price sensitivity x.\n",
    "\n",
    "Example\n",
    "\n",
    "For\n",
    "prices = [110, 95, 70],\n",
    "\n",
    "notes = [\"10.0% higher than in-store\", \n",
    "         \"5.0% lower than in-store\", \n",
    "         \"Same as in-store\"]\n",
    "and x = 5, the output should be\n",
    "solution(prices, notes, x) = True.\n",
    "\n",
    "In-store prices of the first and the second items are 100, and the price of the third item is 70, which means the customer is overpaying 10 - 5 + 0 = 5, which they are willing to do based on their price sensitivity.\n",
    "\n",
    "For\n",
    "prices = [48, 165],\n",
    "\n",
    "notes = [\"20.00% lower than in-store\", \n",
    "         \"10.00% higher than in-store\"]\n",
    "and x = 2, the output should be\n",
    "solution(prices, notes, x) = False.\n",
    "\n",
    "The in-store price of the first item is 60, and the second item is 150. The overpayment equals 15 - 12 = 3, which is too much for the customer to be willing to pay.\n",
    "\n",
    "Input/Output\n",
    "\n",
    "[execution time limit] 4 seconds (py3)\n",
    "\n",
    "[input] array.float prices\n",
    "\n",
    "Positive numbers, representing prices of the items in the shopping cart.\n",
    "\n",
    "Guaranteed constraints:\n",
    "1 ≤ len(prices) ≤ 10,\n",
    "20.0 ≤ prices[i] ≤ 35.0 · 103.\n",
    "\n",
    "[input] array.string notes\n",
    "\n",
    "Array of the same length as prices. For each valid i notes[i] has one of the following forms:\n",
    "\n",
    "\"x% higher than in-store\", which means that Instacart price of the ith item is x% higher than the local one;\n",
    "\"x% lower than in-store\", which means that Instacart price of the ith item is x% lower than the local one;\n",
    "\"Same as in-store\", which means that the ith item costs the same in Instacart and in the local store,\n",
    "where x is a positive float number with the decimal point and at least one digit after it.\n",
    "\n",
    "Guaranteed constraints:\n",
    "len(notes) == len(prices),\n",
    "16 ≤ len(notes[i]) ≤ 30.\n",
    "\n",
    "[input] x: float\n",
    "\n",
    "A non-negative float, the maximum amount of money the customer is willing to overpay.\n",
    "\n",
    "Guaranteed constraints:\n",
    "0 ≤ x ≤ 150.0.\n",
    "\n",
    "[output] boolean\n",
    "\n",
    "True if the overpayment is admissible, False otherwise."
   ]
  },
  {
   "cell_type": "code",
   "execution_count": 1,
   "metadata": {},
   "outputs": [],
   "source": [
    "def solution(prices, notes, x):\n",
    "    v = 0\n",
    "    \n",
    "    for i in range(len(prices)):\n",
    "        if '%' in notes[i]:\n",
    "            percent = float(notes[i][:notes[i].index('%')])\n",
    "            if percent:\n",
    "                den = 100 / percent\n",
    "                if 'higher' in notes[i]:\n",
    "                    real = prices[i] * den / (den + 1)\n",
    "                    v += prices[i] - real\n",
    "                else:\n",
    "                    real = prices[i] * den / (den - 1)\n",
    "                    v -= real - prices[i]        \n",
    "        \n",
    "    return v <= x"
   ]
  },
  {
   "cell_type": "code",
   "execution_count": 19,
   "metadata": {},
   "outputs": [
    {
     "name": "stdout",
     "output_type": "stream",
     "text": [
      "1 True\n",
      "2 False\n",
      "3 True\n",
      "4 True\n",
      "5 True\n",
      "6 False\n",
      "7 True\n",
      "8 False\n",
      "9 False\n",
      "10 True\n"
     ]
    }
   ],
   "source": [
    "def teste():\n",
    "    # prices, notes, x\n",
    "    testes = [([110, 95, 70], [\"10.0% higher than in-store\", \"5.0% lower than in-store\", \"Same as in-store\"], 5),\n",
    "    ([48, 165], [\"20.00% lower than in-store\", \"10.00% higher than in-store\"], 2),\n",
    "    ([24.42, 24.42, 24.2424, 85.23], [\"13.157% higher than in-store\", \"13.157% lower than in-store\", \"Same as in-store\", \"19.24% higher than in-store\"], 24.24), \n",
    "    ([220], [\"120.0000% higher than in-store\"], 120), \n",
    "    ([40, 40, 40, 40], [\"10.0% higher than in-store\", \"10.0% lower than in-store\", \"10.0% higher than in-store\", \"10.0% lower than in-store\"], 0), \n",
    "    ([40, 40, 40, 40], [\"0.001% higher than in-store\", \"0.0% lower than in-store\", \"0.0% higher than in-store\", \"0.0% lower than in-store\"], 0), \n",
    "    ([110, 110, 110, 110, 110, 110, 110, 110, 110, 160], [\"10.0% higher than in-store\", \"10.0% higher than in-store\", \"10.0% higher than in-store\", \"10.0% higher than in-store\", \"10.0% higher than in-store\", \"10.0% higher than in-store\", \"10.0% higher than in-store\", \"10.0% higher than in-store\", \"10.0% higher than in-store\", \"60.0% higher than in-store\"], 150), \n",
    "    ([20], [\"100.0% higher than in-store\"], 9), \n",
    "    ([35000, 35000], [\"35000.0% higher than in-store\", \"10000.0% lower than in-store\"], 150), \n",
    "    ([20, 20], [\"20.0% higher than in-store\", \"20.0% lower than in-store\"], 0)]\n",
    "\n",
    "    for j, i in enumerate(testes):\n",
    "        print(j+1, solution(*i))\n",
    "\n",
    "teste()\n",
    "# Respostas: True False True True True False True False False True"
   ]
  }
 ],
 "metadata": {
  "interpreter": {
   "hash": "0ac544a9e0a30c819e74cb08b9c34e24dca8a1d0d7eea2c7b419213eed312e7a"
  },
  "kernelspec": {
   "display_name": "Python 3.10.0 64-bit",
   "language": "python",
   "name": "python3"
  },
  "language_info": {
   "codemirror_mode": {
    "name": "ipython",
    "version": 3
   },
   "file_extension": ".py",
   "mimetype": "text/x-python",
   "name": "python",
   "nbconvert_exporter": "python",
   "pygments_lexer": "ipython3",
   "version": "3.10.0"
  },
  "orig_nbformat": 4
 },
 "nbformat": 4,
 "nbformat_minor": 2
}
