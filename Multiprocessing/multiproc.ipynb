{
 "cells": [
  {
   "cell_type": "markdown",
   "metadata": {},
   "source": [
    "O código é um _WordCounter_ desenvolvido para entrega de desafio da plataforma Digital Innovation One e será utilizado aqui para aplicação de libs para a tornar mais performática.\n",
    "Código original:"
   ]
  },
  {
   "cell_type": "code",
   "execution_count": null,
   "metadata": {},
   "outputs": [],
   "source": [
    "import re, sys\n",
    "\n",
    "def main():\n",
    "\tparametros = sys.argv\n",
    "\tmsg_err = f'Necessário o uso dos parâmetros. Tente: \"python3 {parametros[0]} <path_leitura> <path_saída>\"'\n",
    "\n",
    "\ttry:\n",
    "\t\tif len(parametros) != 3: raise FileNotFoundError\n",
    "\t\t\n",
    "\t\tarquivo = open(parametros[1], 'r', encoding='utf8')\n",
    "\t\tdados = arquivo.read()\n",
    "\t\tarquivo.close()\n",
    "\n",
    "\t\tdados = re.findall(\"[\\w]+\", dados)\n",
    "\t\tdados = [i.lower() for i in dados]\n",
    "\t\tdados = [(i, dados.count(i)) for i in set(dados)]\n",
    "\t\tdados.sort(key=lambda x: x[1], reverse=True)\n",
    "\n",
    "\t\tarquivo_saida = open(parametros[2], 'a', encoding='utf8')\n",
    "\n",
    "\t\tfor i in dados:\n",
    "\t\t\tarquivo_saida.write(f'{i[0]}: {i[1]}\\n')\n",
    "\t\t\t\t\n",
    "\t\tarquivo_saida.close()\n",
    "\n",
    "\texcept FileNotFoundError:\n",
    "\t\tprint(msg_err)\n",
    "\n",
    "if __name__ == '__main__':\n",
    "\t#main()\n",
    "\tpass"
   ]
  },
  {
   "cell_type": "markdown",
   "metadata": {},
   "source": [
    "Com o único propósito de estressar o processamento, será adicionada a lista 'dados_brutos', o que possibilitará a implantação de paralelismo"
   ]
  },
  {
   "cell_type": "code",
   "execution_count": null,
   "metadata": {},
   "outputs": [],
   "source": [
    "import re, sys\n",
    "\n",
    "def main():\n",
    "\tparametros = sys.argv\n",
    "\tmsg_err = f'Necessário o uso dos parâmetros. Tente: \"python3 {parametros[0]} <path_leitura> <path_saída>\"'\n",
    "\n",
    "\ttry:\n",
    "\t\tif len(parametros) != 3: raise FileNotFoundError\n",
    "\t\t\n",
    "\t\tarquivo = open(parametros[1], 'r', encoding='utf8')\n",
    "\t\tdados = dados_brutos = arquivo.read()\n",
    "\t\tarquivo.close()\n",
    "\n",
    "\t\tdados = re.findall(\"[\\w]+\", dados)\n",
    "\t\tdados = [i.lower() for i in dados]\n",
    "\t\tdados = [(i, dados.count(i)) for i in set(dados)]\n",
    "\t\tdados.sort(key=lambda x: x[1], reverse=True)\n",
    "\n",
    "\t\tdados_brutos = dados_brutos.split()                                         #\n",
    "\t\tdados_brutos = [(i, dados_brutos.count(i)) for i in set(dados_brutos)]      #\n",
    "\t\tdados_brutos.sort(key=lambda x: x[1], reverse=True)                         #\n",
    "\n",
    "\t\tarquivo_saida = open(parametros[2], 'a', encoding='utf8')\n",
    "\t\tarquivo_saida.write('Re'.ljust(30)+ '| Brutos\\n'+'-'*100 + '\\n')\n",
    "\n",
    "\t\tfor i in range(len(dados_brutos)):\n",
    "\t\t\ttry:\t# Essa estrutura, apesar de não cumprir o propósito original, é um pouco mais performática do que if/else \n",
    "\t\t\t\tarquivo_saida.write(f'{dados[i][0]}: {dados[i][1]}'.ljust(30) + '| ' + f'{dados_brutos[i][0]}: {dados_brutos[i][1]}\\n')\n",
    "\t\t\texcept IndexError:\n",
    "\t\t\t\tarquivo_saida.write(' '*30 + '| ' + f'{dados_brutos[i][0]}: {dados_brutos[i][1]}\\n')\n",
    "\t\t\t\t\n",
    "\t\tarquivo_saida.close()\n",
    "\n",
    "\texcept FileNotFoundError:\n",
    "\t\tprint(msg_err)\n",
    "\n",
    "if __name__ == '__main__':\n",
    "\t#main() \n",
    "    pass"
   ]
  },
  {
   "cell_type": "markdown",
   "metadata": {},
   "source": [
    "Esse código foi originalmente concebido para aceitar parâmetros do CLI e, para rodar no Jupiter, tais parâmetros serão inseridos _hardcoded_. Além disso será importado a lib 'time' que possibilitará a avaliação de desempenho do programa."
   ]
  },
  {
   "cell_type": "code",
   "execution_count": null,
   "metadata": {},
   "outputs": [],
   "source": [
    "import re, time #sys não é mais necessário\n",
    "\n",
    "def main():\n",
    "    start = time.time()     #\n",
    "\n",
    "    parametros = ('filename', 'sherlock.txt', 'saida.txt') # o que dispensa a estrutura try/except\n",
    "    \n",
    "    arquivo = open(parametros[1], 'r', encoding='utf8')\n",
    "    dados = dados_brutos = arquivo.read()\n",
    "    arquivo.close()\n",
    "\n",
    "    dados = re.findall(\"[\\w]+\", dados)\n",
    "    dados = [i.lower() for i in dados]\n",
    "    dados = [(i, dados.count(i)) for i in set(dados)]\n",
    "    dados.sort(key=lambda x: x[1], reverse=True)\n",
    "\n",
    "    dados_brutos = dados_brutos.split()\n",
    "    dados_brutos = [(i, dados_brutos.count(i)) for i in set(dados_brutos)]\n",
    "    dados_brutos.sort(key=lambda x: x[1], reverse=True)\n",
    "\n",
    "    arquivo_saida = open(parametros[2], 'a', encoding='utf8')\n",
    "    arquivo_saida.write('Re'.ljust(30)+ '| Brutos\\n'+'-'*100 + '\\n')\n",
    "\n",
    "    for i in range(len(dados_brutos)):\n",
    "        try:\n",
    "            arquivo_saida.write(f'{dados[i][0]}: {dados[i][1]}'.ljust(30) + '| ' + f'{dados_brutos[i][0]}: {dados_brutos[i][1]}\\n')\n",
    "        except IndexError:\n",
    "            arquivo_saida.write(' '*30 + '| ' + f'{dados_brutos[i][0]}: {dados_brutos[i][1]}\\n')\n",
    "            \n",
    "    arquivo_saida.close()\n",
    "\n",
    "    print(time.time() - start)      #\n",
    "\n",
    "if __name__ == '__main__':\n",
    "\tmain()\n",
    "    "
   ]
  },
  {
   "cell_type": "markdown",
   "metadata": {},
   "source": [
    "O programa é finalizado em 46s.\n",
    "\n",
    "Ocorre que o programa é executado em um único _core_ da máquina de forma linear e podemos perceber que o tratamento das variáveis 'dados' e 'dados_brutos' podem ser feitos em paralelo. As opções de paralelismo são _Threading_ e _Multiprocessing_, cujas libs Python recebem mesmo nome. Neste caso dividir a execução desse programa em novas _threads_ não traria benefício performático algum (ou qualquer outro benefício), uma vez que o processamento do código é contínuo, o _core_ fica em 100% de uso durante toda execução. Antes da implantação de _multiprocessing_ alguns conceitos iniciais:"
   ]
  },
  {
   "cell_type": "code",
   "execution_count": null,
   "metadata": {},
   "outputs": [],
   "source": [
    "import multiprocessing as mp\n",
    "\n",
    "def segundo_processo(parametro: int) -> int:    # A função alvo não pode estar aninhada, deve estar declarada no escopo global\n",
    "    print(parametro + 100)                      # porque será importada pelo segundo processo\n",
    "\n",
    "if __name__ == '__main__':  # essa estrutura é 'obrigatória' pois o programa será importado\n",
    "    integral = 10\n",
    "\n",
    "    mp.Process(target=segundo_processo, args=(integral,)).start() # args recebe uma tupla cujo default é ()\n",
    "\n",
    "    print(integral)"
   ]
  },
  {
   "cell_type": "markdown",
   "metadata": {},
   "source": [
    "A execução no jupiter nb trás apenas o 'print' do processo principal, a execução no terminal ou no prompt trará:\n",
    "~~~Python\n",
    "10\n",
    "110\n",
    "~~~\n",
    "Deve-se observar o atraso ao iniciar um novo processo, o que justifica o '10' ter sido \"printado\" antes do '100':"
   ]
  },
  {
   "cell_type": "code",
   "execution_count": null,
   "metadata": {},
   "outputs": [],
   "source": [
    "import multiprocessing as mp\n",
    "import time\n",
    "\n",
    "def processo_filho(começo):\n",
    "    print(time.time() - começo)\n",
    "\n",
    "if __name__ == '__main__':\n",
    "    for i in range(5):\n",
    "        começo = time.time()\n",
    "        mp.Process(target=processo_filho, args=(começo,)).start()"
   ]
  },
  {
   "cell_type": "markdown",
   "metadata": {},
   "source": [
    "Output:\n",
    "~~~Python\n",
    "0.6875026226043701\n",
    "0.6250038146972656\n",
    "0.6406240463256836\n",
    "0.6718716621398926\n",
    "0.6718752384185791\n",
    "~~~\n",
    "Agora com uma pequena diferença:"
   ]
  },
  {
   "cell_type": "code",
   "execution_count": null,
   "metadata": {},
   "outputs": [],
   "source": [
    "import multiprocessing as mp\n",
    "import time\n",
    "\n",
    "def processo_filho(começo):\n",
    "    print(time.time() - começo)\n",
    "\n",
    "if __name__ == '__main__':\n",
    "    for i in range(5):\n",
    "        começo = time.time()\n",
    "        p = mp.Process(target=processo_filho, args=(começo,))   #\n",
    "        p.start()                                               #\n",
    "        p.join()                                                # 'segura' a execução até que o processo seja concluído"
   ]
  },
  {
   "cell_type": "markdown",
   "metadata": {},
   "source": [
    "Output:\n",
    "~~~Python\n",
    "0.4531240463256836\n",
    "0.39063072204589844\n",
    "0.39067554473876953\n",
    "0.39068102836608887\n",
    "0.3906219005584717\n",
    "~~~\n",
    "Ou seja, a chamada 'simultânea' de vários processos atrasa o retorno deles, mas tem tempo total de execução menor.\n",
    "\n",
    "Como sabemos, processos diferentes tem memória alocada diferente, ao contrario das threads, que compartilham memória (o que pode causar problemas). Uma das soluções é o uso de _Queues_: "
   ]
  },
  {
   "cell_type": "code",
   "execution_count": null,
   "metadata": {},
   "outputs": [],
   "source": [
    "import multiprocessing as mp\n",
    "\n",
    "def p(q, s: str) -> str:\n",
    "    for i in ['a', 'b', 'c']:\t\n",
    "    \tq.put(s+i)\n",
    "\n",
    "if __name__ == '__main__':\n",
    "\tq = mp.Queue()\n",
    "\tmp.Process(target=p, args=(q,'a')).start()\n",
    "\n",
    "\tprint(q.get())\n",
    "\tprint('1')\n",
    "\tprint(q.get())\n",
    "\tprint('2')\n",
    "\tprint(q.get())"
   ]
  },
  {
   "cell_type": "markdown",
   "metadata": {},
   "source": [
    "Output:\n",
    "~~~Python\n",
    "aa\n",
    "1\n",
    "ab\n",
    "2\n",
    "ac\n",
    "~~~\n",
    "O uso de Queue é _thread-safe_ e _process-safe_. A 'stack' montada pela Queue é , por default, do tipo FIFO (_First In, First Out_).\n",
    "\n",
    "Por fim, será implementado o _Multiprocessing_ no código contador de palavras:"
   ]
  },
  {
   "cell_type": "code",
   "execution_count": null,
   "metadata": {},
   "outputs": [],
   "source": [
    "import re, time\n",
    "import multiprocessing as mp\n",
    "\n",
    "def processo_extra(q, dados_brutos):\n",
    "\tdados_brutos = dados_brutos.split()\n",
    "\tdados_brutos = [(i, dados_brutos.count(i)) for i in set(dados_brutos)]\n",
    "\tdados_brutos.sort(key=lambda x: x[1], reverse=True)\t\t\n",
    "\tq.put(dados_brutos)\n",
    "\n",
    "def main():\n",
    "\tstart = time.time()\n",
    "\n",
    "\tparametros = ('filename', 'sherlock.txt', 'saida.txt')\n",
    "\n",
    "\tarquivo = open(parametros[1], 'r', encoding='utf8')\n",
    "\tdados = dados_brutos = arquivo.read()\n",
    "\tarquivo.close()\n",
    "\n",
    "\tq = mp.Queue()\n",
    "\tmp.Process(target=processo_extra, args=(q, dados_brutos)).start()\n",
    "\n",
    "\tdados = re.findall(\"[\\w]+\", dados)\n",
    "\tdados = [i.lower() for i in dados]\n",
    "\tdados = [(i, dados.count(i)) for i in set(dados)]\n",
    "\tdados.sort(key=lambda x: x[1], reverse=True)\n",
    "\n",
    "\tarquivo_saida = open(parametros[2], 'a', encoding='utf8')\n",
    "\tarquivo_saida.write('Re'.ljust(30)+ '| Brutos\\n'+'-'*100 + '\\n')\n",
    "\n",
    "\tdados_brutos = q.get()\n",
    "\n",
    "\tfor i in range(len(dados_brutos)):\n",
    "\t\ttry:\n",
    "\t\t\tarquivo_saida.write(f'{dados[i][0]}: {dados[i][1]}'.ljust(30) + '| ' + f'{dados_brutos[i][0]}: {dados_brutos[i][1]}\\n')\n",
    "\t\texcept IndexError:\n",
    "\t\t\tarquivo_saida.write(' '*30 + '| ' + f'{dados_brutos[i][0]}: {dados_brutos[i][1]}\\n')\n",
    "\t\t\t\n",
    "\tarquivo_saida.close()\n",
    "\n",
    "\tprint(time.time() - start)\n",
    "\n",
    "if __name__ == '__main__':\n",
    "\tmain()"
   ]
  },
  {
   "cell_type": "markdown",
   "metadata": {},
   "source": [
    "Output:\n",
    "´´´33.68143177032471´´´\n",
    "\n",
    "Cabe reforçar que a execução no jupiter notebook não permite total visualização das funcionalidade pretendidas, sendo recomendada a execução no prompt ou terminal.\n",
    "\n",
    "O tempo pode variar um pouco, mas já demonstra que essa simples implementação pode tornar o programa mais performático. Além destes exemplos, a lib multiprocessing oferece diversos outros recursos."
   ]
  }
 ],
 "metadata": {
  "interpreter": {
   "hash": "0ac544a9e0a30c819e74cb08b9c34e24dca8a1d0d7eea2c7b419213eed312e7a"
  },
  "kernelspec": {
   "display_name": "Python 3.10.0 64-bit",
   "language": "python",
   "name": "python3"
  },
  "language_info": {
   "codemirror_mode": {
    "name": "ipython",
    "version": 3
   },
   "file_extension": ".py",
   "mimetype": "text/x-python",
   "name": "python",
   "nbconvert_exporter": "python",
   "pygments_lexer": "ipython3",
   "version": "3.10.0"
  },
  "orig_nbformat": 4
 },
 "nbformat": 4,
 "nbformat_minor": 2
}
